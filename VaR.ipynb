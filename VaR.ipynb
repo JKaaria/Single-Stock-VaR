{
 "cells": [
  {
   "cell_type": "markdown",
   "metadata": {},
   "source": [
    "# Value At Risk\n",
    "Calculates n day Value at Risk with 99% confidence"
   ]
  },
  {
   "cell_type": "markdown",
   "metadata": {},
   "source": [
    "### Steps to calculate the VaR"
   ]
  },
  {
   "cell_type": "markdown",
   "metadata": {},
   "source": [
    "In order to calculate the VaR of a portfolio, you can follow the steps below:\n",
    "\n",
    "1. Calculate periodic returns of the stocks in the portfolio\n",
    "2. Create a covariance matrix based on the returns\n",
    "3. Calculate the portfolio mean and standard deviation(weighted based on investment levels of each stock in portfolio)\n",
    "4. Calculate the inverse of the normal cumulative distribution (PPF) with a specified confidence interval, standard deviation, and mean\n",
    "5. Estimate the value at risk (VaR) for the portfolio by subtracting the initial investment from the calculation in step (4)"
   ]
  },
  {
   "cell_type": "code",
   "execution_count": 2,
   "metadata": {},
   "outputs": [],
   "source": [
    "import pandas as pd\n",
    "from pandas_datareader import data as pdr\n",
    "import yfinance as yf\n",
    "import numpy as np\n",
    "import datetime as dt\n",
    "from scipy.stats import norm"
   ]
  },
  {
   "cell_type": "markdown",
   "metadata": {},
   "source": [
    "### S&P"
   ]
  },
  {
   "cell_type": "code",
   "execution_count": 3,
   "metadata": {},
   "outputs": [
    {
     "name": "stdout",
     "output_type": "stream",
     "text": [
      "S&P 5 day VAR with 95% Confidence:\n",
      "4.32 %\n"
     ]
    }
   ],
   "source": [
    "print(\"S&P 5 day VAR with 95% Confidence:\")\n",
    "\n",
    "tickers = ['^GSPC']\n",
    "weights = np.array([1])\n",
    "initial_investment = 100\n",
    "data = pdr.get_data_yahoo(tickers, start=\"2016-01-01\", end=dt.date.today())['Close']\n",
    "returns = data.pct_change()\n",
    "cov_matrix = returns.cov()\n",
    "avg_rets = returns.mean()\n",
    "port_mean = avg_rets.dot(weights)\n",
    "port_stdev = np.sqrt(weights.T.dot(cov_matrix).dot(weights))\n",
    "mean_investment = (1+port_mean) * initial_investment\n",
    "stdev_investment = initial_investment * port_stdev\n",
    "conf_level1 = 0.05\n",
    "cutoff1 = norm.ppf(conf_level1, mean_investment, stdev_investment)\n",
    "var_1d1 = initial_investment - cutoff1\n",
    "var_1d1\n",
    "var_array = []\n",
    "num_days = 5\n",
    "for x in range(1, num_days+1):    \n",
    "    var_array.append(np.round(var_1d1 * np.sqrt(x),2))\n",
    "SPXVaR = np.round(var_1d1 * np.sqrt(x),2)\n",
    "print(SPXVaR,\"%\")"
   ]
  }
 ],
 "metadata": {
  "kernelspec": {
   "display_name": "Python 3.9.5 ('base')",
   "language": "python",
   "name": "python3"
  },
  "language_info": {
   "codemirror_mode": {
    "name": "ipython",
    "version": 3
   },
   "file_extension": ".py",
   "mimetype": "text/x-python",
   "name": "python",
   "nbconvert_exporter": "python",
   "pygments_lexer": "ipython3",
   "version": "3.9.5"
  },
  "orig_nbformat": 4,
  "vscode": {
   "interpreter": {
    "hash": "f12d3a47a51bc2cdd6e80e19126c903740b071fb5279671fd8009d8e2eebd674"
   }
  }
 },
 "nbformat": 4,
 "nbformat_minor": 2
}
